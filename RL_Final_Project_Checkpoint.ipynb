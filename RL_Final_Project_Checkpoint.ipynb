{
  "nbformat": 4,
  "nbformat_minor": 0,
  "metadata": {
    "colab": {
      "name": "RL Final Project - Checkpoint",
      "provenance": [],
      "collapsed_sections": [],
      "include_colab_link": true
    },
    "kernelspec": {
      "name": "python3",
      "display_name": "Python 3"
    },
    "language_info": {
      "name": "python"
    }
  },
  "cells": [
    {
      "cell_type": "markdown",
      "metadata": {
        "id": "view-in-github",
        "colab_type": "text"
      },
      "source": [
        "<a href=\"https://colab.research.google.com/github/Andrew-Cutlip/RL-News-Reccomendation/blob/main/RL_Final_Project_Checkpoint.ipynb\" target=\"_parent\"><img src=\"https://colab.research.google.com/assets/colab-badge.svg\" alt=\"Open In Colab\"/></a>"
      ]
    },
    {
      "cell_type": "code",
      "metadata": {
        "id": "ekIJ2GLi-1_j"
      },
      "source": [
        "# !pip install newsapi-python\n",
        "#https://newsapi.org/\n",
        "\n",
        "from newsapi import NewsApiClient\n",
        "import json\n",
        "\n",
        "#Collect news articles using newsapi based on each of their 7 available categories.\n",
        "#Store these articles based on their category\n",
        "#Output each category separately as a json file\n",
        "output = {}\n",
        "categories = ['business','entertainment','general','health','science','sports','technology']\n",
        "p = 1\n",
        "for i in categories:\n",
        "    newsapi = NewsApiClient(api_key='ddd3987e0e0944adbb0826bc363fb411')\n",
        "    articles = []\n",
        "    while True:\n",
        "        #Only outputs 40 articles per page\n",
        "        news = newsapi.get_top_headlines(category=i,country='us',page=p)\n",
        "        if len(news['articles']) == 0:\n",
        "            p = 1\n",
        "            break\n",
        "        for j in news['articles']:\n",
        "            articles.append(j)\n",
        "        p += 1\n",
        "        \n",
        "    out = newsapi.get_top_headlines(category=i,country='us',page=p)\n",
        "    out['articles'] = articles\n",
        "    output[i] = out\n",
        "\n",
        "    jsonString = json.dumps(output[i])\n",
        "    jsonFile = open(i + \".json\", \"w\")\n",
        "    jsonFile.write(jsonString)\n",
        "    jsonFile.close()"
      ],
      "execution_count": null,
      "outputs": []
    },
    {
      "cell_type": "code",
      "metadata": {
        "id": "BBbB2hB3q6iK"
      },
      "source": [
        "import json\n",
        "import tensorflow as tf\n",
        "from tensorflow.keras.optimizers import Adam, SGD\n",
        "from tensorflow.keras.models import Sequential\n",
        "from tensorflow.keras.layers import Conv2D, Dense, Dropout, Flatten, MaxPooling2D\n",
        "import numpy as np\n",
        "\n",
        "#Read and store the articles from each category file\n",
        "def get_articles(categories):\n",
        "\n",
        "          articles_by_category = {}\n",
        "          for i in categories:\n",
        "            #First initialize an empty list for each category:list dictionary pairing\n",
        "            articles_by_category[i] = []\n",
        "            #Read in each file of articles for a specific category\n",
        "            f = open(i + '.json',)\n",
        "            data = json.load(f)\n",
        "            #Add all articles to their respective category list\n",
        "            for j in data['articles']:\n",
        "              #Try to avoid duplicates\n",
        "              if j not in articles_by_category[i]:\n",
        "                articles_by_category[i].append(j)\n",
        "\n",
        "          #Also get total number of articles and a list of all articles\n",
        "          count = 0\n",
        "          articles = []\n",
        "          for i in articles_by_category:\n",
        "            for j in articles_by_category[i]:\n",
        "              articles.append(j)\n",
        "              count += 1\n",
        "\n",
        "          #Return articles separated by categories, all articles, and the number of articles\n",
        "          return articles_by_category, articles, count\n",
        "\n",
        "#NN using specifications such as category, source, and additional ones later on\n",
        "#to narrow down the best options\n",
        "def model_category(dimensions):\n",
        "  model = Sequential()\n",
        "  model.add(Dense(64, activation='relu', input_dim=1))\n",
        "  model.add(Dense(64, activation='relu'))\n",
        "  model.add(Dense(dimensions, activation = 'linear'))\n",
        "  model.compile(loss=\"mse\", optimizer=Adam())\n",
        "  return model\n",
        "\n",
        "#Use the info from the results of the NN above to then choose the best article(s)\n",
        "def model_article(dimensions):\n",
        "  model = Sequential()\n",
        "  model.add(Dense(64, activation='relu', input_dim=dimensions))\n",
        "  model.add(Dense(64, activation='relu'))\n",
        "  model.add(Dense(dimensions, activation = 'linear'))\n",
        "  model.compile(loss=\"mse\", optimizer=Adam())\n",
        "  return model"
      ],
      "execution_count": null,
      "outputs": []
    },
    {
      "cell_type": "code",
      "metadata": {
        "id": "qVe3KGKtq8D0"
      },
      "source": [
        "#Testing just categories and sources\n",
        "categories = ['business', 'entertainment', 'general', 'health', 'science', 'sports', 'technology']\n",
        "sources = ['CNN', 'Fox', 'NBC', 'Yahoo', 'NY Times']\n",
        "dictionary, articles, count = get_articles(categories)\n",
        "test_articles = tf.keras.utils.to_categorical([x for x in range(len(articles))])\n",
        "test_categories = tf.keras.utils.to_categorical([x for x in range(len(categories))])\n",
        "test_sources = tf.keras.utils.to_categorical([x for x in range(len(sources))])\n",
        "input = np.zeros((len(categories),len(sources)))"
      ],
      "execution_count": null,
      "outputs": []
    },
    {
      "cell_type": "code",
      "metadata": {
        "colab": {
          "base_uri": "https://localhost:8080/"
        },
        "id": "7Fczrk7Rsovd",
        "outputId": "48d59579-a078-4f7e-eb7a-da3c10200f99"
      },
      "source": [
        "#Will predict the best categories, sources, etc.\n",
        "category_network = model_category(input.shape[0] * input.shape[1])\n",
        "category_network.predict([20])"
      ],
      "execution_count": null,
      "outputs": [
        {
          "output_type": "execute_result",
          "data": {
            "text/plain": [
              "array([[ 5.5303946 , -1.6566074 , -1.868009  , -0.03930004,  1.4747511 ,\n",
              "         3.7728841 , -3.5733588 , -1.4677445 , -1.556563  ,  0.22044267,\n",
              "        -2.1284733 ,  0.6250434 , -1.8423033 ,  1.3613594 ,  0.54959285,\n",
              "        -0.03525704,  1.0029222 , -2.2187312 , -0.36850268,  1.2978175 ,\n",
              "        -1.2625779 , -0.6808103 , -1.8780624 , -1.0403682 , -3.168286  ,\n",
              "         3.7793667 , -2.1145532 , -0.5132835 , -2.1722107 ,  0.29567036,\n",
              "         1.3293519 , -2.854562  , -1.2936492 ,  0.59742355, -2.2229075 ]],\n",
              "      dtype=float32)"
            ]
          },
          "metadata": {},
          "execution_count": 127
        }
      ]
    },
    {
      "cell_type": "code",
      "metadata": {
        "colab": {
          "base_uri": "https://localhost:8080/"
        },
        "id": "LLZ9rpdK3yeN",
        "outputId": "30e4900c-3445-4ca8-b6ea-972a8c7b18c7"
      },
      "source": [
        "#Will predict the best articles\n",
        "article_network = model_article(len(articles))\n",
        "article_network.predict(test_articles)"
      ],
      "execution_count": null,
      "outputs": [
        {
          "output_type": "execute_result",
          "data": {
            "text/plain": [
              "array([[ 0.02842958, -0.01918323,  0.00426571, ..., -0.02624595,\n",
              "         0.01662601, -0.01392839],\n",
              "       [ 0.00713418,  0.00737917, -0.01377758, ..., -0.02932087,\n",
              "         0.022171  ,  0.00739779],\n",
              "       [ 0.01137135,  0.00117633, -0.00178598, ..., -0.03742161,\n",
              "         0.00053511, -0.00835036],\n",
              "       ...,\n",
              "       [ 0.01389274,  0.00020527,  0.01170358, ..., -0.01732264,\n",
              "         0.0185889 , -0.00158778],\n",
              "       [ 0.03619907,  0.02391271, -0.00646777, ..., -0.04770539,\n",
              "         0.03227527, -0.0096007 ],\n",
              "       [ 0.01134513,  0.0151197 ,  0.00856792, ..., -0.02226889,\n",
              "         0.01242851,  0.00906009]], dtype=float32)"
            ]
          },
          "metadata": {},
          "execution_count": 126
        }
      ]
    },
    {
      "cell_type": "code",
      "metadata": {
        "colab": {
          "base_uri": "https://localhost:8080/",
          "height": 282
        },
        "id": "SpYZsvL57ytn",
        "outputId": "909df2cb-5c7e-46c3-e3dc-bf1ad8b8959c"
      },
      "source": [
        "#Testing out our potential epsilon decay\n",
        "import matplotlib.pyplot as plt\n",
        "\n",
        "epsilon = 1\n",
        "epsilons = []\n",
        "epsilon_decay = 0.999\n",
        "\n",
        "episodes = 5000\n",
        "\n",
        "for i in range(episodes):\n",
        "  epsilons.append(epsilon)\n",
        "  epsilon *= epsilon_decay\n",
        "\n",
        "plt.plot(epsilons)"
      ],
      "execution_count": null,
      "outputs": [
        {
          "output_type": "execute_result",
          "data": {
            "text/plain": [
              "[<matplotlib.lines.Line2D at 0x7fefae562190>]"
            ]
          },
          "metadata": {},
          "execution_count": 138
        },
        {
          "output_type": "display_data",
          "data": {
            "image/png": "[encoded data removed]",
            "text/plain": [
              "<Figure size 432x288 with 1 Axes>"
            ]
          },
          "metadata": {
            "needs_background": "light"
          }
        }
      ]
    }
  ]
}